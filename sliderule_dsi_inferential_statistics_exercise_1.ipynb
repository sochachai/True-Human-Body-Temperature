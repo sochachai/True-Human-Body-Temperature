{
 "cells": [
  {
   "cell_type": "markdown",
   "metadata": {},
   "source": [
    "# What is the True Normal Human Body Temperature? \n",
    "\n",
    "#### Background\n",
    "\n",
    "The mean normal body temperature was held to be 37$^{\\circ}$C or 98.6$^{\\circ}$F for more than 120 years since it was first conceptualized and reported by Carl Wunderlich in a famous 1868 book. But, is this value statistically correct?"
   ]
  },
  {
   "cell_type": "markdown",
   "metadata": {},
   "source": [
    "<h3>Ideas</h3>\n",
    "\n",
    "<p>In this project, we will analyze a dataset of human body temperatures and employ the concepts of hypothesis testing, confidence intervals, and statistical significance.</p>\n",
    "\n",
    "<p>We will answer the following questions. </p> \n",
    "\n",
    "<ol>\n",
    "<li>  Is the distribution of body temperatures normal? \n",
    "    <ul>\n",
    "    <li> Although this is not a requirement for the Central Limit Theorem to hold (read the introduction on Wikipedia's page about the CLT carefully: https://en.wikipedia.org/wiki/Central_limit_theorem), it gives us some peace of mind that the population may also be normally distributed if we assume that this sample is representative of the population.\n",
    "    <li> Graphical methods are usually used to check for the normality of the distribution, but there are also other ways: https://en.wikipedia.org/wiki/Normality_test\n",
    "    </ul>\n",
    "<li>  Is the sample size large? Are the observations independent?\n",
    "    <ul>\n",
    "    <li> Remember that this is a condition for the Central Limit Theorem, and hence the statistical tests we are using, to apply.\n",
    "    </ul>\n",
    "<li>  Is the true population mean really 98.6 degrees F?\n",
    "    <ul>\n",
    "    <li> First, try a bootstrap hypothesis test.\n",
    "    <li> Now, let's try frequentist statistical testing. Should we use a one-sample or two-sample test? Why?\n",
    "    <li> In this situation, is it appropriate to use the $t$ or $z$ statistic? \n",
    "    <li> Now try using the other test. How is the result be different? Why?\n",
    "    </ul>\n",
    "<li>  Draw a small sample of size 10 from the data and repeat both frequentist tests. \n",
    "    <ul>\n",
    "    <li> Which one is the correct one to use? \n",
    "    <li> What do you notice? What does this tell you about the difference in application of the $t$ and $z$ statistic?\n",
    "    </ul>\n",
    "<li>  At what temperature should we consider someone's temperature to be \"abnormal\"?\n",
    "    <ul>\n",
    "    <li> As in the previous example, try calculating everything using the boostrap approach, as well as the frequentist approach.\n",
    "    <li> Start by computing the margin of error and confidence interval. When calculating the confidence interval, keep in mind that we should use the appropriate formula for one draw, and not N draws.\n",
    "    </ul>\n",
    "<li>  Is there a significant difference between males and females in normal temperature?\n",
    "    <ul>\n",
    "    <li> Write a story with our conclusion in the context of the original problem.\n",
    "    </ul>\n",
    "</ol>\n",
    "\n",
    "\n",
    "#### Resources\n",
    "\n",
    "+ Information and data sources: http://www.amstat.org/publications/jse/datasets/normtemp.txt, http://www.amstat.org/publications/jse/jse_data_archive.htm\n",
    "+ Markdown syntax: http://nestacms.com/docs/creating-content/markdown-cheat-sheet\n",
    "\n",
    "****"
   ]
  },
  {
   "cell_type": "code",
   "execution_count": 1,
   "metadata": {},
   "outputs": [],
   "source": [
    "import pandas as pd\n",
    "\n",
    "df = pd.read_csv('data/human_body_temperature.csv')"
   ]
  },
  {
   "cell_type": "code",
   "execution_count": 2,
   "metadata": {},
   "outputs": [
    {
     "data": {
      "text/html": [
       "<div>\n",
       "<style scoped>\n",
       "    .dataframe tbody tr th:only-of-type {\n",
       "        vertical-align: middle;\n",
       "    }\n",
       "\n",
       "    .dataframe tbody tr th {\n",
       "        vertical-align: top;\n",
       "    }\n",
       "\n",
       "    .dataframe thead th {\n",
       "        text-align: right;\n",
       "    }\n",
       "</style>\n",
       "<table border=\"1\" class=\"dataframe\">\n",
       "  <thead>\n",
       "    <tr style=\"text-align: right;\">\n",
       "      <th></th>\n",
       "      <th>temperature</th>\n",
       "      <th>gender</th>\n",
       "      <th>heart_rate</th>\n",
       "    </tr>\n",
       "  </thead>\n",
       "  <tbody>\n",
       "    <tr>\n",
       "      <th>0</th>\n",
       "      <td>99.3</td>\n",
       "      <td>F</td>\n",
       "      <td>68.0</td>\n",
       "    </tr>\n",
       "    <tr>\n",
       "      <th>1</th>\n",
       "      <td>98.4</td>\n",
       "      <td>F</td>\n",
       "      <td>81.0</td>\n",
       "    </tr>\n",
       "    <tr>\n",
       "      <th>2</th>\n",
       "      <td>97.8</td>\n",
       "      <td>M</td>\n",
       "      <td>73.0</td>\n",
       "    </tr>\n",
       "    <tr>\n",
       "      <th>3</th>\n",
       "      <td>99.2</td>\n",
       "      <td>F</td>\n",
       "      <td>66.0</td>\n",
       "    </tr>\n",
       "    <tr>\n",
       "      <th>4</th>\n",
       "      <td>98.0</td>\n",
       "      <td>F</td>\n",
       "      <td>73.0</td>\n",
       "    </tr>\n",
       "  </tbody>\n",
       "</table>\n",
       "</div>"
      ],
      "text/plain": [
       "   temperature gender  heart_rate\n",
       "0         99.3      F        68.0\n",
       "1         98.4      F        81.0\n",
       "2         97.8      M        73.0\n",
       "3         99.2      F        66.0\n",
       "4         98.0      F        73.0"
      ]
     },
     "execution_count": 2,
     "metadata": {},
     "output_type": "execute_result"
    }
   ],
   "source": [
    "# Your work here.\n",
    "df.head(5)"
   ]
  },
  {
   "cell_type": "code",
   "execution_count": 3,
   "metadata": {},
   "outputs": [
    {
     "data": {
      "text/plain": [
       "130"
      ]
     },
     "execution_count": 3,
     "metadata": {},
     "output_type": "execute_result"
    }
   ],
   "source": [
    "len(df)"
   ]
  },
  {
   "cell_type": "code",
   "execution_count": 4,
   "metadata": {},
   "outputs": [
    {
     "data": {
      "text/plain": [
       "<Figure size 640x480 with 1 Axes>"
      ]
     },
     "metadata": {},
     "output_type": "display_data"
    }
   ],
   "source": [
    "import matplotlib.pyplot as plt\n",
    "import numpy as np\n",
    "plt.hist(df.temperature,bins=np.arange(min(df.temperature), max(df.temperature) + 0.5, 0.2))\n",
    "plt.show()"
   ]
  },
  {
   "cell_type": "markdown",
   "metadata": {},
   "source": [
    "## 1.The histogram looks like a bell shape. The distribution is roughly normal."
   ]
  },
  {
   "cell_type": "markdown",
   "metadata": {},
   "source": [
    "## 2.The sample size is 130 which is considered to be large enough and the observations are considered to be independent."
   ]
  },
  {
   "cell_type": "markdown",
   "metadata": {},
   "source": [
    "## 3.The following is a bootstap hypothesis test."
   ]
  },
  {
   "cell_type": "code",
   "execution_count": 5,
   "metadata": {},
   "outputs": [
    {
     "data": {
      "text/plain": [
       "98.24923076923075"
      ]
     },
     "execution_count": 5,
     "metadata": {},
     "output_type": "execute_result"
    }
   ],
   "source": [
    "np.mean(df.temperature)"
   ]
  },
  {
   "cell_type": "markdown",
   "metadata": {},
   "source": [
    "## Since the mean of the temperatures is 98.25 which is less than 98.6, we choose the null hypothesis as H0: the true mean >98.6 against the alternative hypothesis: the true mean <=98.6."
   ]
  },
  {
   "cell_type": "code",
   "execution_count": 6,
   "metadata": {},
   "outputs": [],
   "source": [
    "def draw_data_reps(df_col,func,size=130):\n",
    "    perm_replicates = np.empty(size)\n",
    "    for i in range(size):\n",
    "        perm_replicates[i]=func(np.random.choice(df_col,5))\n",
    "    return perm_replicates"
   ]
  },
  {
   "cell_type": "code",
   "execution_count": 7,
   "metadata": {},
   "outputs": [
    {
     "data": {
      "text/plain": [
       "array([97.96, 98.28, 97.8 , 98.86, 98.76, 98.2 , 98.38, 98.32, 97.84,\n",
       "       98.1 , 98.  , 98.46, 97.84, 97.62, 98.04, 98.82, 98.32, 98.24,\n",
       "       98.34, 98.48, 98.58, 98.34, 98.24, 98.28, 98.52, 97.88, 97.9 ,\n",
       "       98.16, 98.66, 98.98, 98.06, 98.56, 98.3 , 98.42, 98.4 , 98.18,\n",
       "       98.58, 98.44, 98.04, 98.2 , 98.58, 97.98, 98.06, 98.22, 97.8 ,\n",
       "       98.22, 98.  , 98.48, 97.86, 98.52, 97.76, 98.32, 98.82, 97.98,\n",
       "       98.46, 98.26, 98.02, 98.24, 98.42, 98.8 , 98.36, 98.46, 97.84,\n",
       "       97.9 , 97.96, 97.78, 97.86, 98.4 , 98.04, 98.14, 98.1 , 98.12,\n",
       "       97.82, 98.08, 98.64, 98.4 , 98.9 , 98.4 , 98.26, 98.14, 98.66,\n",
       "       97.9 , 98.12, 98.3 , 98.7 , 97.78, 98.86, 98.56, 98.76, 98.74,\n",
       "       98.98, 98.24, 97.84, 98.4 , 98.12, 98.2 , 97.94, 97.82, 98.48,\n",
       "       98.3 , 98.06, 98.22, 98.8 , 97.78, 97.98, 98.48, 97.7 , 98.32,\n",
       "       98.02, 97.54, 98.6 , 97.92, 98.86, 97.68, 98.54, 98.36, 98.58,\n",
       "       97.88, 98.38, 98.5 , 98.46, 97.6 , 97.96, 98.34, 98.1 , 98.44,\n",
       "       97.98, 98.28, 98.12, 98.38])"
      ]
     },
     "execution_count": 7,
     "metadata": {},
     "output_type": "execute_result"
    }
   ],
   "source": [
    "bootstrap_samples = draw_data_reps(df['temperature'],np.mean,130)\n",
    "bootstrap_samples"
   ]
  },
  {
   "cell_type": "code",
   "execution_count": 8,
   "metadata": {},
   "outputs": [
    {
     "data": {
      "text/plain": [
       "array([ 99.65076923,  98.75076923,  98.15076923,  99.55076923,\n",
       "        98.35076923,  99.55076923,  98.35076923,  99.15076923,\n",
       "        98.75076923,  98.95076923,  99.15076923,  97.05076923,\n",
       "        98.55076923,  99.05076923,  98.15076923,  99.15076923,\n",
       "        98.65076923,  98.55076923,  97.55076923,  99.75076923,\n",
       "        98.65076923,  98.55076923,  98.95076923,  98.75076923,\n",
       "        98.15076923,  98.35076923,  98.15076923,  98.55076923,\n",
       "        98.75076923,  98.45076923,  98.65076923,  97.95076923,\n",
       "        98.85076923,  98.95076923,  99.65076923,  99.85076923,\n",
       "        99.45076923,  98.65076923,  98.25076923,  96.75076923,\n",
       "        98.75076923,  98.75076923,  97.25076923,  97.55076923,\n",
       "        99.35076923,  98.25076923,  97.75076923,  97.75076923,\n",
       "        98.25076923,  97.45076923,  99.25076923,  98.65076923,\n",
       "        98.85076923,  98.95076923,  98.55076923,  98.95076923,\n",
       "        99.15076923,  98.55076923,  98.55076923,  97.95076923,\n",
       "        99.45076923,  98.75076923,  98.55076923,  98.95076923,\n",
       "        99.05076923,  97.75076923,  97.75076923,  98.95076923,\n",
       "        99.05076923,  99.25076923,  98.45076923,  98.05076923,\n",
       "        98.35076923,  99.15076923,  99.35076923,  99.15076923,\n",
       "        98.35076923,  98.75076923,  97.75076923,  97.95076923,\n",
       "        99.15076923,  98.35076923,  97.85076923,  99.55076923,\n",
       "        98.95076923,  97.45076923,  98.95076923,  98.35076923,\n",
       "        99.05076923,  98.45076923,  98.15076923, 100.35076923,\n",
       "        99.15076923,  97.45076923,  98.15076923,  97.15076923,\n",
       "       100.25076923,  99.05076923,  99.15076923,  98.35076923,\n",
       "        99.35076923,  98.85076923,  98.35076923,  99.75076923,\n",
       "        97.95076923,  97.05076923,  97.35076923,  98.95076923,\n",
       "        99.05076923,  97.65076923,  99.15076923,  98.35076923,\n",
       "        98.55076923,  99.45076923,  99.35076923,  98.35076923,\n",
       "       101.15076923,  98.15076923,  99.05076923,  98.75076923,\n",
       "        98.05076923,  98.25076923,  99.35076923,  97.55076923,\n",
       "        97.85076923,  96.65076923,  98.05076923,  98.55076923,\n",
       "        98.25076923,  99.05076923])"
      ]
     },
     "execution_count": 8,
     "metadata": {},
     "output_type": "execute_result"
    }
   ],
   "source": [
    "translated_temp = df.temperature-np.mean(df.temperature)+98.6\n",
    "translated_temp = translated_temp.values\n",
    "translated_temp"
   ]
  },
  {
   "cell_type": "code",
   "execution_count": 9,
   "metadata": {},
   "outputs": [
    {
     "data": {
      "text/plain": [
       "0.2846153846153846"
      ]
     },
     "execution_count": 9,
     "metadata": {},
     "output_type": "execute_result"
    }
   ],
   "source": [
    "p = np.sum(bootstrap_samples>=translated_temp)/len(translated_temp)\n",
    "p"
   ]
  },
  {
   "cell_type": "markdown",
   "metadata": {},
   "source": [
    "## 33.85% of bootstrapped temperatures > translated temperatures centered at 98.6. We do not have enough evidence to reject the null hypothesis and conclude the temperature is not centered at 98.6."
   ]
  },
  {
   "cell_type": "markdown",
   "metadata": {},
   "source": [
    "<b> Question</b>: <p>Now, let's try frequentist statistical testing. Should use a one-sample or two-sample test? Why?</p>\n",
    "<b> Answer</b>:\n",
    "<ul> I would use a one-sample test since we are testing if the sample mean is equivalent to a specific numeric value:98.6. A two-sample test is to test whether two sets of datas have the same mean. The bootstrap method above is a one-sample bootstrap hypothesis testing\n",
    "<\\ul> "
   ]
  },
  {
   "cell_type": "markdown",
   "metadata": {},
   "source": [
    "<b>Question</b>: In this situation, is it appropriate to use the t or z statistic? \n",
    "<b>Ans</b>: z-statistic, since the sample size is large enough(n=130>30)"
   ]
  },
  {
   "cell_type": "code",
   "execution_count": 10,
   "metadata": {},
   "outputs": [
    {
     "data": {
      "text/plain": [
       "-5.4759252020785585"
      ]
     },
     "execution_count": 10,
     "metadata": {},
     "output_type": "execute_result"
    }
   ],
   "source": [
    "(np.mean(df.temperature)-98.6)/(np.std(df.temperature.values)/np.sqrt(130))"
   ]
  },
  {
   "cell_type": "markdown",
   "metadata": {},
   "source": [
    "## We can perform a two-sided z-test. The p-value corresponds to the above z-score is 0. Reject the null hypothesis that the mean is 98.6"
   ]
  },
  {
   "cell_type": "markdown",
   "metadata": {},
   "source": [
    "## Question:Now try using the other test. How is the result be different? Why?"
   ]
  },
  {
   "cell_type": "code",
   "execution_count": 11,
   "metadata": {},
   "outputs": [
    {
     "data": {
      "text/plain": [
       "array([ 99.3,  98.4,  97.8,  99.2,  98. ,  99.2,  98. ,  98.8,  98.4,\n",
       "        98.6,  98.8,  96.7,  98.2,  98.7,  97.8,  98.8,  98.3,  98.2,\n",
       "        97.2,  99.4,  98.3,  98.2,  98.6,  98.4,  97.8,  98. ,  97.8,\n",
       "        98.2,  98.4,  98.1,  98.3,  97.6,  98.5,  98.6,  99.3,  99.5,\n",
       "        99.1,  98.3,  97.9,  96.4,  98.4,  98.4,  96.9,  97.2,  99. ,\n",
       "        97.9,  97.4,  97.4,  97.9,  97.1,  98.9,  98.3,  98.5,  98.6,\n",
       "        98.2,  98.6,  98.8,  98.2,  98.2,  97.6,  99.1,  98.4,  98.2,\n",
       "        98.6,  98.7,  97.4,  97.4,  98.6,  98.7,  98.9,  98.1,  97.7,\n",
       "        98. ,  98.8,  99. ,  98.8,  98. ,  98.4,  97.4,  97.6,  98.8,\n",
       "        98. ,  97.5,  99.2,  98.6,  97.1,  98.6,  98. ,  98.7,  98.1,\n",
       "        97.8, 100. ,  98.8,  97.1,  97.8,  96.8,  99.9,  98.7,  98.8,\n",
       "        98. ,  99. ,  98.5,  98. ,  99.4,  97.6,  96.7,  97. ,  98.6,\n",
       "        98.7,  97.3,  98.8,  98. ,  98.2,  99.1,  99. ,  98. , 100.8,\n",
       "        97.8,  98.7,  98.4,  97.7,  97.9,  99. ,  97.2,  97.5,  96.3,\n",
       "        97.7,  98.2,  97.9,  98.7])"
      ]
     },
     "execution_count": 11,
     "metadata": {},
     "output_type": "execute_result"
    }
   ],
   "source": [
    "sample1 = df.temperature.values\n",
    "sample1"
   ]
  },
  {
   "cell_type": "code",
   "execution_count": 12,
   "metadata": {},
   "outputs": [
    {
     "data": {
      "text/plain": [
       "array([ 99.04890341,  97.95165936,  97.80674835,  99.42495515,\n",
       "        99.08927164,  97.690477  ,  98.66592763,  98.82045447,\n",
       "        98.62765386,  97.84563575,  98.94428354,  98.86536557,\n",
       "        99.24182472,  98.78158349,  98.81553033,  98.97112087,\n",
       "        98.247148  ,  99.29852479,  99.11869042,  99.21433902,\n",
       "       100.654198  ,  97.62832167,  98.72378299,  98.25148873,\n",
       "        98.17280649,  98.29519184,  97.93417911,  98.97419485,\n",
       "        99.07985602,  98.39481283,  98.37556377,  99.83258112,\n",
       "        98.75563539,  97.9444055 ,  98.58447374,  99.61775919,\n",
       "        98.88916002,  97.85450664,  98.93105505,  98.50321631,\n",
       "        97.84873772,  98.53872118,  98.71708636,  98.07746085,\n",
       "        98.13948218,  98.10071844,  98.89454554,  98.48728542,\n",
       "        98.4483422 ,  98.92955411,  99.69283715,  97.72255368,\n",
       "        97.97045423,  98.03036962,  99.23371285,  99.18598296,\n",
       "        98.59102904,  98.8095411 ,  96.9865492 ,  98.1989531 ,\n",
       "        97.71545862,  99.58580333,  98.19270584,  99.25782182,\n",
       "        99.98956901,  99.8297676 ,  98.66838278,  98.92234103,\n",
       "        98.58896306,  98.98143309,  97.5409042 ,  98.83121414,\n",
       "        98.28581601,  99.33051529,  98.09182416,  97.78408207,\n",
       "        98.69735403,  97.86569929,  99.12446336,  99.84281238,\n",
       "        98.31202724,  98.31413542,  98.5200344 ,  97.79069102,\n",
       "        98.00623865,  99.24219061,  99.09569823,  97.65438159,\n",
       "        97.87852084,  98.92448858,  97.97593145,  98.56404117,\n",
       "        99.41848697,  98.49910365,  97.53920943,  98.15134015,\n",
       "        97.78677752,  97.10684422,  98.15167255,  98.13539953,\n",
       "        98.78504089,  99.491233  ,  99.16770856,  99.53956025,\n",
       "        97.14505294,  97.65151389,  97.76237776,  98.22953871,\n",
       "        98.18489234,  99.19778364,  98.17772076,  99.21562771,\n",
       "        99.0004013 ,  99.36957586,  98.10691242,  97.19474957,\n",
       "        98.53282124,  97.87543446,  98.10375343,  97.84617773,\n",
       "        97.90975541,  99.95817767,  98.62897648,  98.69336971,\n",
       "        97.41407593,  98.85893257,  98.89059485,  98.06768766,\n",
       "        99.0195312 , 100.28402622])"
      ]
     },
     "execution_count": 12,
     "metadata": {},
     "output_type": "execute_result"
    }
   ],
   "source": [
    "sample2 = np.random.normal(98.6, np.std(df.temperature), 130)\n",
    "sample2"
   ]
  },
  {
   "cell_type": "code",
   "execution_count": 13,
   "metadata": {},
   "outputs": [
    {
     "data": {
      "text/plain": [
       "array([ 0.25109659,  0.44834064, -0.00674835, -0.22495515, -1.08927164,\n",
       "        1.509523  , -0.66592763, -0.02045447, -0.22765386,  0.75436425,\n",
       "       -0.14428354, -2.16536557, -1.04182472, -0.08158349, -1.01553033,\n",
       "       -0.17112087,  0.052852  , -1.09852479, -1.91869042,  0.18566098,\n",
       "       -2.354198  ,  0.57167833, -0.12378299,  0.14851127, -0.37280649,\n",
       "       -0.29519184, -0.13417911, -0.77419485, -0.67985602, -0.29481283,\n",
       "       -0.07556377, -2.23258112, -0.25563539,  0.6555945 ,  0.71552626,\n",
       "       -0.11775919,  0.21083998,  0.44549336, -1.03105505, -2.10321631,\n",
       "        0.55126228, -0.13872118, -1.81708636, -0.87746085,  0.86051782,\n",
       "       -0.20071844, -1.49454554, -1.08728542, -0.5483422 , -1.82955411,\n",
       "       -0.79283715,  0.57744632,  0.52954577,  0.56963038, -1.03371285,\n",
       "       -0.58598296,  0.20897096, -0.6095411 ,  1.2134508 , -0.5989531 ,\n",
       "        1.38454138, -1.18580333,  0.00729416, -0.65782182, -1.28956901,\n",
       "       -2.4297676 , -1.26838278, -0.32234103,  0.11103694, -0.08143309,\n",
       "        0.5590958 , -1.13121414, -0.28581601, -0.53051529,  0.90817584,\n",
       "        1.01591793, -0.69735403,  0.53430071, -1.72446336, -2.24281238,\n",
       "        0.48797276, -0.31413542, -1.0200344 ,  1.40930898,  0.59376135,\n",
       "       -2.14219061, -0.49569823,  0.34561841,  0.82147916, -0.82448858,\n",
       "       -0.17593145,  1.43595883, -0.61848697, -1.39910365,  0.26079057,\n",
       "       -1.35134015,  2.11322248,  1.59315578,  0.64832745, -0.13539953,\n",
       "        0.21495911, -0.991233  , -1.16770856, -0.13956025,  0.45494706,\n",
       "       -0.95151389, -0.76237776,  0.37046129,  0.51510766, -1.89778364,\n",
       "        0.62227924, -1.21562771, -0.8004013 , -0.26957586,  0.89308758,\n",
       "        0.80525043,  2.26717876, -0.07543446,  0.59624657,  0.55382227,\n",
       "       -0.20975541, -2.05817767,  0.37102352, -1.49336971,  0.08592407,\n",
       "       -2.55893257, -1.19059485,  0.13231234, -1.1195312 , -1.58402622])"
      ]
     },
     "execution_count": 13,
     "metadata": {},
     "output_type": "execute_result"
    }
   ],
   "source": [
    "diff = sample1-sample2\n",
    "diff"
   ]
  },
  {
   "cell_type": "markdown",
   "metadata": {},
   "source": [
    "## By the central limit theorem, under the null hypothesis that the mean of df.temperature is 98.6, diff should follow a normal distribution with mean 0."
   ]
  },
  {
   "cell_type": "code",
   "execution_count": 14,
   "metadata": {},
   "outputs": [
    {
     "data": {
      "text/plain": [
       "-3.6104468653653012"
      ]
     },
     "execution_count": 14,
     "metadata": {},
     "output_type": "execute_result"
    }
   ],
   "source": [
    "np.mean(diff)/(np.std(diff)/np.sqrt(130))"
   ]
  },
  {
   "cell_type": "markdown",
   "metadata": {},
   "source": [
    "## Answer: The above z-statistic corresponds to a p-value of 0.0008 for a two-sided test, we can reject the null hypothesis that the mean of df.temperature is 98.6 if we set the confidence level of to be 99.9%."
   ]
  },
  {
   "cell_type": "markdown",
   "metadata": {},
   "source": [
    "## The result is still to reject the null hypothesis of the mean is 98.6 but the p-value is slightly larger. The reason for the larger p-value is that in the previous one-sample test, we actually compared  the orginal sample to a constant 98.6 while in the two-sample test, we compared the original sample to a normal distribution. The variance of the generated comparative sample in the two-sample test makes the difference."
   ]
  },
  {
   "cell_type": "markdown",
   "metadata": {},
   "source": [
    "## 4.Draw a small sample of size 10 from the data and repeat both frequentist tests. "
   ]
  },
  {
   "cell_type": "code",
   "execution_count": 15,
   "metadata": {},
   "outputs": [
    {
     "data": {
      "text/plain": [
       "array([97.4, 97.9, 99.2, 99.2, 98.7, 98.7, 97.7, 99.2, 98.8, 98.6])"
      ]
     },
     "execution_count": 15,
     "metadata": {},
     "output_type": "execute_result"
    }
   ],
   "source": [
    "df_sample = np.random.choice(df.temperature,10)\n",
    "df_sample"
   ]
  },
  {
   "cell_type": "markdown",
   "metadata": {},
   "source": [
    "## Question: Which one is the correct one to use? "
   ]
  },
  {
   "cell_type": "markdown",
   "metadata": {},
   "source": [
    "## Answer: A one-sample test is the correct one to use. A two-sample test is to test the difference between two statistical quantities. First I will do a one-sample test. Since the statement in part 4 also requests us to \"repeat both frequentist tests\", I assume this is refered to \"one-sample test\" and \"two-sample test\". I will do a two-sample test for completion."
   ]
  },
  {
   "cell_type": "markdown",
   "metadata": {},
   "source": [
    "## The following is a one-sample two-sided t-test. Since the sample size is 10 < 30, a t-test is applied. The null hypothesis is H0: the mean is 98.6."
   ]
  },
  {
   "cell_type": "code",
   "execution_count": 16,
   "metadata": {},
   "outputs": [
    {
     "data": {
      "text/plain": [
       "-0.3060268703388876"
      ]
     },
     "execution_count": 16,
     "metadata": {},
     "output_type": "execute_result"
    }
   ],
   "source": [
    "t_statistic = (np.mean(df_sample)-98.6)/(np.std(df_sample)/np.sqrt(10))\n",
    "t_statistic"
   ]
  },
  {
   "cell_type": "markdown",
   "metadata": {},
   "source": [
    "## The t-statistic corresponds to a p-value of 0.0127 for a two-sided t-test with 9 degrees of freedom. We will reject the null hypothesis at a 95% confidence level and cannot reject the null hypothesis at a 99% confidence level."
   ]
  },
  {
   "cell_type": "markdown",
   "metadata": {},
   "source": [
    "## The following is a two-sample two-sided t-test. A comparison sample needs to be generated first. We are testing if the mean of the difference is zero."
   ]
  },
  {
   "cell_type": "code",
   "execution_count": 17,
   "metadata": {},
   "outputs": [
    {
     "data": {
      "text/plain": [
       "array([98.66412921, 98.33582635, 99.29858122, 98.36092712, 97.74519309,\n",
       "       98.96410374, 98.50824161, 99.00908571, 99.05305942, 98.80878695])"
      ]
     },
     "execution_count": 17,
     "metadata": {},
     "output_type": "execute_result"
    }
   ],
   "source": [
    "df_sample2 = np.random.normal(98.6, np.std(df_sample), 10)\n",
    "df_sample2"
   ]
  },
  {
   "cell_type": "code",
   "execution_count": 18,
   "metadata": {},
   "outputs": [
    {
     "data": {
      "text/plain": [
       "-0.6657966725551016"
      ]
     },
     "execution_count": 18,
     "metadata": {},
     "output_type": "execute_result"
    }
   ],
   "source": [
    "diff = df_sample - df_sample2\n",
    "t_statistic = np.mean(diff)/(np.std(diff)/np.sqrt(10))\n",
    "t_statistic"
   ]
  },
  {
   "cell_type": "markdown",
   "metadata": {},
   "source": [
    "## The t-statistic corresponds to a p-value of 0.0038. We will reject the null hypothesis that the original has a mean of 98.6 at a 99.5% confidence level."
   ]
  },
  {
   "cell_type": "markdown",
   "metadata": {},
   "source": [
    "## Question: What do you notice? What does this tell you about the difference in application of the t and z statistic? "
   ]
  },
  {
   "cell_type": "markdown",
   "metadata": {},
   "source": [
    "## Ans: The t-statistic gives a higher p-value in both one-sample and two-sample tests than the counterparts of the z-statistic. "
   ]
  },
  {
   "cell_type": "markdown",
   "metadata": {},
   "source": [
    "## 5.At what temperature should we consider someone's temperature to be \"abnormal\"? \n",
    "### As in the previous example, try calculating everything using the boostrap approach, as well as the frequentist approach. \n",
    "### Start by computing the margin of error and confidence interval. When calculating the confidence interval, keep in mind that you should use the appropriate formula for one draw, and not N draws. "
   ]
  },
  {
   "cell_type": "markdown",
   "metadata": {},
   "source": [
    "## The following is the Bootstrap approach."
   ]
  },
  {
   "cell_type": "code",
   "execution_count": 19,
   "metadata": {},
   "outputs": [
    {
     "data": {
      "text/plain": [
       "array([97.96, 98.28, 97.8 , 98.86, 98.76, 98.2 , 98.38, 98.32, 97.84,\n",
       "       98.1 , 98.  , 98.46, 97.84, 97.62, 98.04, 98.82, 98.32, 98.24,\n",
       "       98.34, 98.48, 98.58, 98.34, 98.24, 98.28, 98.52, 97.88, 97.9 ,\n",
       "       98.16, 98.66, 98.98, 98.06, 98.56, 98.3 , 98.42, 98.4 , 98.18,\n",
       "       98.58, 98.44, 98.04, 98.2 , 98.58, 97.98, 98.06, 98.22, 97.8 ,\n",
       "       98.22, 98.  , 98.48, 97.86, 98.52, 97.76, 98.32, 98.82, 97.98,\n",
       "       98.46, 98.26, 98.02, 98.24, 98.42, 98.8 , 98.36, 98.46, 97.84,\n",
       "       97.9 , 97.96, 97.78, 97.86, 98.4 , 98.04, 98.14, 98.1 , 98.12,\n",
       "       97.82, 98.08, 98.64, 98.4 , 98.9 , 98.4 , 98.26, 98.14, 98.66,\n",
       "       97.9 , 98.12, 98.3 , 98.7 , 97.78, 98.86, 98.56, 98.76, 98.74,\n",
       "       98.98, 98.24, 97.84, 98.4 , 98.12, 98.2 , 97.94, 97.82, 98.48,\n",
       "       98.3 , 98.06, 98.22, 98.8 , 97.78, 97.98, 98.48, 97.7 , 98.32,\n",
       "       98.02, 97.54, 98.6 , 97.92, 98.86, 97.68, 98.54, 98.36, 98.58,\n",
       "       97.88, 98.38, 98.5 , 98.46, 97.6 , 97.96, 98.34, 98.1 , 98.44,\n",
       "       97.98, 98.28, 98.12, 98.38])"
      ]
     },
     "execution_count": 19,
     "metadata": {},
     "output_type": "execute_result"
    }
   ],
   "source": [
    "bootstrap_samples"
   ]
  },
  {
   "cell_type": "code",
   "execution_count": 20,
   "metadata": {},
   "outputs": [
    {
     "data": {
      "text/plain": [
       "97.5787"
      ]
     },
     "execution_count": 20,
     "metadata": {},
     "output_type": "execute_result"
    }
   ],
   "source": [
    "np.percentile(bootstrap_samples,0.5)"
   ]
  },
  {
   "cell_type": "code",
   "execution_count": 21,
   "metadata": {},
   "outputs": [
    {
     "data": {
      "text/plain": [
       "98.97999999999999"
      ]
     },
     "execution_count": 21,
     "metadata": {},
     "output_type": "execute_result"
    }
   ],
   "source": [
    "np.percentile(bootstrap_samples,99.5)"
   ]
  },
  {
   "cell_type": "code",
   "execution_count": 22,
   "metadata": {},
   "outputs": [
    {
     "name": "stdout",
     "output_type": "stream",
     "text": [
      "97.53999999999999\n"
     ]
    }
   ],
   "source": [
    "for i in range(len(bootstrap_samples)):\n",
    "    if bootstrap_samples[i]<np.percentile(bootstrap_samples,0.5) or bootstrap_samples[i]>np.percentile(bootstrap_samples,99.5):\n",
    "        print(bootstrap_samples[i])"
   ]
  },
  {
   "cell_type": "code",
   "execution_count": 23,
   "metadata": {},
   "outputs": [
    {
     "name": "stdout",
     "output_type": "stream",
     "text": [
      "99.3\n",
      "99.2\n",
      "99.2\n",
      "96.7\n",
      "97.2\n",
      "99.4\n",
      "99.3\n",
      "99.5\n",
      "99.1\n",
      "96.4\n",
      "96.9\n",
      "97.2\n",
      "99.0\n",
      "97.4\n",
      "97.4\n",
      "97.1\n",
      "99.1\n",
      "97.4\n",
      "97.4\n",
      "99.0\n",
      "97.4\n",
      "97.5\n",
      "99.2\n",
      "97.1\n",
      "100.0\n",
      "97.1\n",
      "96.8\n",
      "99.9\n",
      "99.0\n",
      "99.4\n",
      "96.7\n",
      "97.0\n",
      "97.3\n",
      "99.1\n",
      "99.0\n",
      "100.8\n",
      "99.0\n",
      "97.2\n",
      "97.5\n",
      "96.3\n"
     ]
    }
   ],
   "source": [
    "for i in range(len(df.temperature.values)):\n",
    "    if df.temperature.values[i]<np.percentile(bootstrap_samples,0.5) or df.temperature.values[i]>np.percentile(bootstrap_samples,99.5):\n",
    "        print(df.temperature.values[i])"
   ]
  },
  {
   "cell_type": "markdown",
   "metadata": {},
   "source": [
    "## In the Bootstrap approach, the .5% percentile and the 99.5% percentile is computed for the Bootstrap sample and a 99% confidence interval is obtained which is [97.34,99.18]. The records that fall outside of this range is considered to be abnormal. "
   ]
  },
  {
   "cell_type": "markdown",
   "metadata": {},
   "source": [
    "## The following is the frequentist approach which is based on the central limit theorem and the z-statistic."
   ]
  },
  {
   "cell_type": "code",
   "execution_count": 24,
   "metadata": {},
   "outputs": [
    {
     "data": {
      "text/plain": [
       "98.24923076923075"
      ]
     },
     "execution_count": 24,
     "metadata": {},
     "output_type": "execute_result"
    }
   ],
   "source": [
    "np.mean(df.temperature.values)"
   ]
  },
  {
   "cell_type": "code",
   "execution_count": 25,
   "metadata": {},
   "outputs": [
    {
     "data": {
      "text/plain": [
       "98.08422092977592"
      ]
     },
     "execution_count": 25,
     "metadata": {},
     "output_type": "execute_result"
    }
   ],
   "source": [
    "lower = np.mean(df.temperature.values)-2.576*np.std(df.temperature.values)/np.sqrt(130)\n",
    "lower\n",
    "#-2.576 is the 0.5% percentile for the standard normal distribution"
   ]
  },
  {
   "cell_type": "code",
   "execution_count": 26,
   "metadata": {},
   "outputs": [
    {
     "data": {
      "text/plain": [
       "98.41424060868557"
      ]
     },
     "execution_count": 26,
     "metadata": {},
     "output_type": "execute_result"
    }
   ],
   "source": [
    "upper = np.mean(df.temperature.values)+2.576*np.std(df.temperature.values)/np.sqrt(130)\n",
    "upper\n",
    "#2.576 is the 99.5% percentile fot the standard normal distribution"
   ]
  },
  {
   "cell_type": "code",
   "execution_count": 27,
   "metadata": {},
   "outputs": [
    {
     "name": "stdout",
     "output_type": "stream",
     "text": [
      "The number of abnormalies is  103\n"
     ]
    }
   ],
   "source": [
    "count = 0\n",
    "for i in range(len(df.temperature.values)):\n",
    "    if df.temperature.values[i]<lower or df.temperature.values[i]>upper:\n",
    "        count +=1\n",
    "        #print(df.temperature.values[i])\n",
    "print('The number of abnormalies is ', count)"
   ]
  },
  {
   "cell_type": "markdown",
   "metadata": {},
   "source": [
    "## In the frequentist approach, the .5% percentile and the 99.5% percentile is computed for the original sample and a 99% confidence interval is obtained which is [98.08,98.41]. The records that fall outside of this range is considered to be abnormal. "
   ]
  },
  {
   "cell_type": "markdown",
   "metadata": {},
   "source": [
    "## http://www.stat.yale.edu/Courses/1997-98/101/confint.htm uses a t-test to find a 95% confidence interval:(98.123,98.375). 115 records of the data falls outside of the 95% confidence interval based on the t-test."
   ]
  },
  {
   "cell_type": "markdown",
   "metadata": {},
   "source": [
    "## 6.Is there a significant difference between males and females in normal temperature? \n",
    "### What testing approach did you use and why? \n",
    "### Write a story with your conclusion in the context of the original problem."
   ]
  },
  {
   "cell_type": "markdown",
   "metadata": {},
   "source": [
    "## I will separate the original sample into two groups according to the gender. Then a two-sided t-test will be performed to determine whether the two groups have the same mean."
   ]
  },
  {
   "cell_type": "code",
   "execution_count": 28,
   "metadata": {},
   "outputs": [
    {
     "data": {
      "text/html": [
       "<div>\n",
       "<style scoped>\n",
       "    .dataframe tbody tr th:only-of-type {\n",
       "        vertical-align: middle;\n",
       "    }\n",
       "\n",
       "    .dataframe tbody tr th {\n",
       "        vertical-align: top;\n",
       "    }\n",
       "\n",
       "    .dataframe thead th {\n",
       "        text-align: right;\n",
       "    }\n",
       "</style>\n",
       "<table border=\"1\" class=\"dataframe\">\n",
       "  <thead>\n",
       "    <tr style=\"text-align: right;\">\n",
       "      <th></th>\n",
       "      <th>temperature</th>\n",
       "      <th>gender</th>\n",
       "      <th>heart_rate</th>\n",
       "    </tr>\n",
       "  </thead>\n",
       "  <tbody>\n",
       "    <tr>\n",
       "      <th>2</th>\n",
       "      <td>97.8</td>\n",
       "      <td>M</td>\n",
       "      <td>73.0</td>\n",
       "    </tr>\n",
       "    <tr>\n",
       "      <th>5</th>\n",
       "      <td>99.2</td>\n",
       "      <td>M</td>\n",
       "      <td>83.0</td>\n",
       "    </tr>\n",
       "    <tr>\n",
       "      <th>6</th>\n",
       "      <td>98.0</td>\n",
       "      <td>M</td>\n",
       "      <td>71.0</td>\n",
       "    </tr>\n",
       "    <tr>\n",
       "      <th>7</th>\n",
       "      <td>98.8</td>\n",
       "      <td>M</td>\n",
       "      <td>78.0</td>\n",
       "    </tr>\n",
       "    <tr>\n",
       "      <th>12</th>\n",
       "      <td>98.2</td>\n",
       "      <td>M</td>\n",
       "      <td>72.0</td>\n",
       "    </tr>\n",
       "    <tr>\n",
       "      <th>17</th>\n",
       "      <td>98.2</td>\n",
       "      <td>M</td>\n",
       "      <td>64.0</td>\n",
       "    </tr>\n",
       "    <tr>\n",
       "      <th>19</th>\n",
       "      <td>99.4</td>\n",
       "      <td>M</td>\n",
       "      <td>70.0</td>\n",
       "    </tr>\n",
       "    <tr>\n",
       "      <th>21</th>\n",
       "      <td>98.2</td>\n",
       "      <td>M</td>\n",
       "      <td>71.0</td>\n",
       "    </tr>\n",
       "    <tr>\n",
       "      <th>22</th>\n",
       "      <td>98.6</td>\n",
       "      <td>M</td>\n",
       "      <td>70.0</td>\n",
       "    </tr>\n",
       "    <tr>\n",
       "      <th>23</th>\n",
       "      <td>98.4</td>\n",
       "      <td>M</td>\n",
       "      <td>68.0</td>\n",
       "    </tr>\n",
       "  </tbody>\n",
       "</table>\n",
       "</div>"
      ],
      "text/plain": [
       "    temperature gender  heart_rate\n",
       "2          97.8      M        73.0\n",
       "5          99.2      M        83.0\n",
       "6          98.0      M        71.0\n",
       "7          98.8      M        78.0\n",
       "12         98.2      M        72.0\n",
       "17         98.2      M        64.0\n",
       "19         99.4      M        70.0\n",
       "21         98.2      M        71.0\n",
       "22         98.6      M        70.0\n",
       "23         98.4      M        68.0"
      ]
     },
     "execution_count": 28,
     "metadata": {},
     "output_type": "execute_result"
    }
   ],
   "source": [
    "df_male = df.loc[df.gender=='M']\n",
    "df_male.head(10)"
   ]
  },
  {
   "cell_type": "code",
   "execution_count": 29,
   "metadata": {},
   "outputs": [
    {
     "data": {
      "text/html": [
       "<div>\n",
       "<style scoped>\n",
       "    .dataframe tbody tr th:only-of-type {\n",
       "        vertical-align: middle;\n",
       "    }\n",
       "\n",
       "    .dataframe tbody tr th {\n",
       "        vertical-align: top;\n",
       "    }\n",
       "\n",
       "    .dataframe thead th {\n",
       "        text-align: right;\n",
       "    }\n",
       "</style>\n",
       "<table border=\"1\" class=\"dataframe\">\n",
       "  <thead>\n",
       "    <tr style=\"text-align: right;\">\n",
       "      <th></th>\n",
       "      <th>temperature</th>\n",
       "      <th>gender</th>\n",
       "      <th>heart_rate</th>\n",
       "    </tr>\n",
       "  </thead>\n",
       "  <tbody>\n",
       "    <tr>\n",
       "      <th>0</th>\n",
       "      <td>99.3</td>\n",
       "      <td>F</td>\n",
       "      <td>68.0</td>\n",
       "    </tr>\n",
       "    <tr>\n",
       "      <th>1</th>\n",
       "      <td>98.4</td>\n",
       "      <td>F</td>\n",
       "      <td>81.0</td>\n",
       "    </tr>\n",
       "    <tr>\n",
       "      <th>3</th>\n",
       "      <td>99.2</td>\n",
       "      <td>F</td>\n",
       "      <td>66.0</td>\n",
       "    </tr>\n",
       "    <tr>\n",
       "      <th>4</th>\n",
       "      <td>98.0</td>\n",
       "      <td>F</td>\n",
       "      <td>73.0</td>\n",
       "    </tr>\n",
       "    <tr>\n",
       "      <th>8</th>\n",
       "      <td>98.4</td>\n",
       "      <td>F</td>\n",
       "      <td>84.0</td>\n",
       "    </tr>\n",
       "    <tr>\n",
       "      <th>9</th>\n",
       "      <td>98.6</td>\n",
       "      <td>F</td>\n",
       "      <td>86.0</td>\n",
       "    </tr>\n",
       "    <tr>\n",
       "      <th>10</th>\n",
       "      <td>98.8</td>\n",
       "      <td>F</td>\n",
       "      <td>89.0</td>\n",
       "    </tr>\n",
       "    <tr>\n",
       "      <th>11</th>\n",
       "      <td>96.7</td>\n",
       "      <td>F</td>\n",
       "      <td>62.0</td>\n",
       "    </tr>\n",
       "    <tr>\n",
       "      <th>13</th>\n",
       "      <td>98.7</td>\n",
       "      <td>F</td>\n",
       "      <td>79.0</td>\n",
       "    </tr>\n",
       "    <tr>\n",
       "      <th>14</th>\n",
       "      <td>97.8</td>\n",
       "      <td>F</td>\n",
       "      <td>77.0</td>\n",
       "    </tr>\n",
       "  </tbody>\n",
       "</table>\n",
       "</div>"
      ],
      "text/plain": [
       "    temperature gender  heart_rate\n",
       "0          99.3      F        68.0\n",
       "1          98.4      F        81.0\n",
       "3          99.2      F        66.0\n",
       "4          98.0      F        73.0\n",
       "8          98.4      F        84.0\n",
       "9          98.6      F        86.0\n",
       "10         98.8      F        89.0\n",
       "11         96.7      F        62.0\n",
       "13         98.7      F        79.0\n",
       "14         97.8      F        77.0"
      ]
     },
     "execution_count": 29,
     "metadata": {},
     "output_type": "execute_result"
    }
   ],
   "source": [
    "df_female = df.loc[df.gender=='F']\n",
    "df_female.head(10)"
   ]
  },
  {
   "cell_type": "code",
   "execution_count": 30,
   "metadata": {},
   "outputs": [
    {
     "data": {
      "text/plain": [
       "-2.3032202891943516"
      ]
     },
     "execution_count": 30,
     "metadata": {},
     "output_type": "execute_result"
    }
   ],
   "source": [
    "male = df_male.temperature.values\n",
    "female = df_female.temperature.values\n",
    "s1 = np.std(male)\n",
    "s2 = np.std(female)\n",
    "t = (np.mean(male)-np.mean(female))/np.sqrt(s1*s1/65+s2*s2/65)\n",
    "t"
   ]
  },
  {
   "cell_type": "markdown",
   "metadata": {},
   "source": [
    "## The degree of freedom is 64. The t-statstic corresponds to a p-value of 0.0245 for a two-sided t-test. We will reject the null hypothesis that both genders have the same mean of temperatures at the confidence level of 95% and fail to reject the null hypothesis at the confidence level of 99%. "
   ]
  },
  {
   "cell_type": "markdown",
   "metadata": {},
   "source": [
    "## My conclusion is the actual temperature for a normal human body is not 98.6F but is somewhat lower than that, at approximately 98.245F. Body temperatures in male bodies seem to be a little lower than body temperatures in female bodies."
   ]
  },
  {
   "cell_type": "code",
   "execution_count": null,
   "metadata": {},
   "outputs": [],
   "source": []
  }
 ],
 "metadata": {
  "kernelspec": {
   "display_name": "Python 3",
   "language": "python",
   "name": "python3"
  },
  "language_info": {
   "codemirror_mode": {
    "name": "ipython",
    "version": 3
   },
   "file_extension": ".py",
   "mimetype": "text/x-python",
   "name": "python",
   "nbconvert_exporter": "python",
   "pygments_lexer": "ipython3",
   "version": "3.6.6"
  }
 },
 "nbformat": 4,
 "nbformat_minor": 1
}
